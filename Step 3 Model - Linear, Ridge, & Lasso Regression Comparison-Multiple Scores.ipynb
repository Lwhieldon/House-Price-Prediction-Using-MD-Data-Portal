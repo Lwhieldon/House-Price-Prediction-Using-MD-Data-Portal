{
 "cells": [
  {
   "cell_type": "code",
   "execution_count": 1,
   "metadata": {},
   "outputs": [],
   "source": [
    "import pandas as pd\n",
    "import numpy as np\n",
    "import matplotlib.pyplot as plt\n",
    "%matplotlib inline"
   ]
  },
  {
   "cell_type": "code",
   "execution_count": 2,
   "metadata": {},
   "outputs": [],
   "source": [
    "results = pd.read_pickle('MDHousingDataset_PreProcessed.pickle')"
   ]
  },
  {
   "cell_type": "code",
   "execution_count": 3,
   "metadata": {},
   "outputs": [],
   "source": [
    "target = results['HousingSalesPrice']"
   ]
  },
  {
   "cell_type": "code",
   "execution_count": 4,
   "metadata": {},
   "outputs": [],
   "source": [
    "data = results.drop(['HousingSalesPrice'], axis = 1)"
   ]
  },
  {
   "cell_type": "markdown",
   "metadata": {},
   "source": [
    "# Data Exploration\n",
    "\n",
    "Since the main goal of this project is to construct a working model which has the capability of predicting the value of a house in Catonsville, MD, we will need to separate the dataset into features and the target variable. The features,`'SizeofHouse`', `'HasBasement`', `'DwellingType`', `'NoofStories`', and `'StreetAddressType`' give us quantitative & qualitative information about each data point. The target variable, `'HousingSalesPrice`', will be the variable we seek to predict. These are stored in data and target, respectively."
   ]
  },
  {
   "cell_type": "markdown",
   "metadata": {},
   "source": [
    "## Calculate Basic Statistics on the Data - HousingSalesPrice"
   ]
  },
  {
   "cell_type": "code",
   "execution_count": 5,
   "metadata": {},
   "outputs": [
    {
     "name": "stdout",
     "output_type": "stream",
     "text": [
      "Statistics for Catonsville housing dataset:\n",
      "\n",
      "Minimum standardized price: -1.6530076933893585\n",
      "Maximum standardized price: 5.584184567702824\n",
      "Mean standardized price: -0.16213180479449354\n",
      "Median standardized price -0.34575398091866866\n",
      "Standard deviation of standardized prices: 0.6777369816268108\n"
     ]
    }
   ],
   "source": [
    "# Minimum normalized price of the data\n",
    "minimum_price = np.amin(target)\n",
    "\n",
    "# Maximum normalized price of the data\n",
    "maximum_price = np.amax(target)\n",
    "\n",
    "# Mean normalized price of the data\n",
    "mean_price = np.mean(target)\n",
    "\n",
    "# Median normalized price of the data\n",
    "median_price = np.median(target)\n",
    "\n",
    "# Standard deviation of normalized prices of the data\n",
    "std_price = np.std(target)\n",
    "\n",
    "# Show the calculated statistics\n",
    "print(\"Statistics for Catonsville housing dataset:\\n\")\n",
    "print(\"Minimum standardized price: {}\".format(minimum_price)) \n",
    "print(\"Maximum standardized price: {}\".format(maximum_price))\n",
    "print(\"Mean standardized price: {}\".format(mean_price))\n",
    "print(\"Median standardized price {}\".format(median_price))\n",
    "print(\"Standard deviation of standardized prices: {}\".format(std_price))"
   ]
  },
  {
   "cell_type": "markdown",
   "metadata": {},
   "source": [
    "# Feature Observation"
   ]
  },
  {
   "cell_type": "markdown",
   "metadata": {},
   "source": [
    "As a reminder, we are using 5 features from Catonsville house dataset:`'PriorYearHousingSalesPrice'`, `'SizeofHouse'`, `'HouseAge'`, `'HasBasement'` , `'DwellingType'`, `'NoofStories'`, `'StreetAddressType`',and `'DwellingGrade`' .\n",
    "\n",
    "For each data point (house):\n",
    "- `'PriorYearHousingSalesPrice'` is the prior year sales price assessment on the house.\n",
    "- `'SizeofHouse'` is the size in square feet of a house in Catonsville.\n",
    "- `'HouseAge'` is the age of the house in years from the latest assessment (2020)\n",
    "- `'StreetAddressType`' is the type of house. `'SF'` = Single Family and `'TH'` = TownHouse\n",
    "- `'HasBasement'` is a binary to denote has basement `'1'` no basement `'0'`. For any homes without this indicator, we removed from the dataset\n",
    "- `'DwellingType`' is broken out into 4 dummy variables: `'Center Unit'`, `'End Unit'`',`'Split Level'`,`'Standard Unit'`'\n",
    "- `'NoofStories`' is broken out in 5 dummy variables: `'1'`, `'1 1/2'`, `'2'`, `'2 1/2'`, `'3'`\n",
    "- `'DwellingGrade`' is a grade of the state of the property, given by an assessment to the property. Our scale is 2 (worse) to 7 (very good).\n"
   ]
  },
  {
   "cell_type": "markdown",
   "metadata": {},
   "source": [
    "# Breaking out our data into training & test sets\n",
    "\n",
    "In this section, we will break out our data into a test & training set."
   ]
  },
  {
   "cell_type": "code",
   "execution_count": 6,
   "metadata": {},
   "outputs": [],
   "source": [
    "from sklearn.model_selection import train_test_split"
   ]
  },
  {
   "cell_type": "code",
   "execution_count": 7,
   "metadata": {},
   "outputs": [],
   "source": [
    "data_train,data_test,target_train,target_test = train_test_split(data,target,train_size=0.30,random_state=0)"
   ]
  },
  {
   "cell_type": "markdown",
   "metadata": {},
   "source": [
    "# Developing a Model\n",
    "In this section of defining our model, I compare linear regression, ridge regression, and lasso regression to see how well each model makes a prediction. Being able to see how each model's performance compares through sklearn will help to reinforce confidence in my predictions.\n",
    "\n",
    "I score all models using Mean squared error; in this sklearn module, the closer the value gets to 0, the better the model.\n",
    "\n",
    "GridSearchCV will produce a negative mean square error; therefore, I multiply the negative mean squared error by -1 to get the true mean squared error\n"
   ]
  },
  {
   "cell_type": "markdown",
   "metadata": {},
   "source": [
    "##  Linear Regression"
   ]
  },
  {
   "cell_type": "code",
   "execution_count": 8,
   "metadata": {},
   "outputs": [],
   "source": [
    "from sklearn.linear_model import LinearRegression\n",
    "from sklearn.model_selection import GridSearchCV\n",
    "from sklearn.metrics import make_scorer\n",
    "from sklearn.metrics import accuracy_score"
   ]
  },
  {
   "cell_type": "code",
   "execution_count": 9,
   "metadata": {},
   "outputs": [],
   "source": [
    "linear = LinearRegression()\n",
    "parameters = {'fit_intercept':[True,False], 'normalize':[True,False], 'copy_X':[True,False]}"
   ]
  },
  {
   "cell_type": "code",
   "execution_count": 10,
   "metadata": {},
   "outputs": [],
   "source": [
    "lin_scoring = {'NMSE': 'neg_mean_squared_error','R2':'r2'}"
   ]
  },
  {
   "cell_type": "code",
   "execution_count": 11,
   "metadata": {},
   "outputs": [],
   "source": [
    "lin_regressor = GridSearchCV(linear,param_grid=parameters,scoring=lin_scoring,refit='R2',return_train_score=True,iid=False,cv=7)"
   ]
  },
  {
   "cell_type": "code",
   "execution_count": 12,
   "metadata": {},
   "outputs": [
    {
     "data": {
      "text/plain": [
       "GridSearchCV(cv=7, error_score='raise-deprecating',\n",
       "             estimator=LinearRegression(copy_X=True, fit_intercept=True,\n",
       "                                        n_jobs=None, normalize=False),\n",
       "             iid=False, n_jobs=None,\n",
       "             param_grid={'copy_X': [True, False],\n",
       "                         'fit_intercept': [True, False],\n",
       "                         'normalize': [True, False]},\n",
       "             pre_dispatch='2*n_jobs', refit='R2', return_train_score=True,\n",
       "             scoring={'NMSE': 'neg_mean_squared_error', 'R2': 'r2'}, verbose=0)"
      ]
     },
     "execution_count": 12,
     "metadata": {},
     "output_type": "execute_result"
    }
   ],
   "source": [
    "lin_regressor.fit(data_train,target_train)"
   ]
  },
  {
   "cell_type": "markdown",
   "metadata": {},
   "source": [
    "# Ridge Regression"
   ]
  },
  {
   "cell_type": "code",
   "execution_count": 13,
   "metadata": {},
   "outputs": [],
   "source": [
    "from sklearn.linear_model import Ridge\n",
    "from sklearn.model_selection import GridSearchCV"
   ]
  },
  {
   "cell_type": "code",
   "execution_count": 14,
   "metadata": {},
   "outputs": [],
   "source": [
    "ridge = Ridge()"
   ]
  },
  {
   "cell_type": "code",
   "execution_count": 15,
   "metadata": {},
   "outputs": [],
   "source": [
    "parameters = {'alpha':[1e-10,1e-3,1e-2,1,5,10,11,15]}\n"
   ]
  },
  {
   "cell_type": "code",
   "execution_count": 16,
   "metadata": {},
   "outputs": [],
   "source": [
    "rid_scoring = {'NMSE': 'neg_mean_squared_error','R2':'r2'}"
   ]
  },
  {
   "cell_type": "code",
   "execution_count": 17,
   "metadata": {},
   "outputs": [],
   "source": [
    "ridge_regressor=GridSearchCV(ridge,parameters,scoring=rid_scoring,refit='R2',iid=None,cv=7,return_train_score=True)"
   ]
  },
  {
   "cell_type": "code",
   "execution_count": 18,
   "metadata": {},
   "outputs": [
    {
     "data": {
      "text/plain": [
       "GridSearchCV(cv=7, error_score='raise-deprecating',\n",
       "             estimator=Ridge(alpha=1.0, copy_X=True, fit_intercept=True,\n",
       "                             max_iter=None, normalize=False, random_state=None,\n",
       "                             solver='auto', tol=0.001),\n",
       "             iid=None, n_jobs=None,\n",
       "             param_grid={'alpha': [1e-10, 0.001, 0.01, 1, 5, 10, 11, 15]},\n",
       "             pre_dispatch='2*n_jobs', refit='R2', return_train_score=True,\n",
       "             scoring={'NMSE': 'neg_mean_squared_error', 'R2': 'r2'}, verbose=0)"
      ]
     },
     "execution_count": 18,
     "metadata": {},
     "output_type": "execute_result"
    }
   ],
   "source": [
    "ridge_regressor.fit(data_train,target_train)"
   ]
  },
  {
   "cell_type": "markdown",
   "metadata": {},
   "source": [
    "# Lasso Regression"
   ]
  },
  {
   "cell_type": "code",
   "execution_count": 19,
   "metadata": {},
   "outputs": [],
   "source": [
    "from sklearn.linear_model import Lasso\n",
    "from sklearn.model_selection import GridSearchCV"
   ]
  },
  {
   "cell_type": "code",
   "execution_count": 20,
   "metadata": {},
   "outputs": [],
   "source": [
    "lasso = Lasso(tol=100)"
   ]
  },
  {
   "cell_type": "code",
   "execution_count": 21,
   "metadata": {},
   "outputs": [],
   "source": [
    "parameters = {'alpha':[1e-15,1e-10,1e-8,1e-3,1e-2,1,5,10]}\n"
   ]
  },
  {
   "cell_type": "code",
   "execution_count": 22,
   "metadata": {},
   "outputs": [],
   "source": [
    "las_scoring = {'NMSE': 'neg_mean_squared_error','R2':'r2'}"
   ]
  },
  {
   "cell_type": "code",
   "execution_count": 23,
   "metadata": {},
   "outputs": [],
   "source": [
    "lasso_regression=GridSearchCV(lasso,parameters,scoring=las_scoring,refit='R2',cv=7,iid=False,return_train_score=True)"
   ]
  },
  {
   "cell_type": "code",
   "execution_count": 24,
   "metadata": {},
   "outputs": [
    {
     "data": {
      "text/plain": [
       "GridSearchCV(cv=7, error_score='raise-deprecating',\n",
       "             estimator=Lasso(alpha=1.0, copy_X=True, fit_intercept=True,\n",
       "                             max_iter=1000, normalize=False, positive=False,\n",
       "                             precompute=False, random_state=None,\n",
       "                             selection='cyclic', tol=100, warm_start=False),\n",
       "             iid=False, n_jobs=None,\n",
       "             param_grid={'alpha': [1e-15, 1e-10, 1e-08, 0.001, 0.01, 1, 5, 10]},\n",
       "             pre_dispatch='2*n_jobs', refit='R2', return_train_score=True,\n",
       "             scoring={'NMSE': 'neg_mean_squared_error', 'R2': 'r2'}, verbose=0)"
      ]
     },
     "execution_count": 24,
     "metadata": {},
     "output_type": "execute_result"
    }
   ],
   "source": [
    "lasso_regression.fit(data_train,target_train)"
   ]
  },
  {
   "cell_type": "markdown",
   "metadata": {},
   "source": [
    "# Conclusion: Comparing Regression Scores\n",
    "\n",
    "Now that we see how our models compare to the actual values, let's see how each model's Mean Squared Error and R-Squared scores compares to each other. Let's first examine the Mean Squared Error of each cross validation sample; then we review the R-Squared (refitted) of each cross validation sample.\n"
   ]
  },
  {
   "cell_type": "code",
   "execution_count": 25,
   "metadata": {},
   "outputs": [
    {
     "data": {
      "image/png": "[encoded data removed]",
      "text/plain": [
       "<Figure size 432x288 with 1 Axes>"
      ]
     },
     "metadata": {
      "needs_background": "light"
     },
     "output_type": "display_data"
    }
   ],
   "source": [
    "linear_results_test = lin_regressor.cv_results_['mean_test_NMSE']\n",
    "lasso_results_test = lasso_regression.cv_results_['mean_test_NMSE']\n",
    "ridge_results_test = ridge_regressor.cv_results_['mean_test_NMSE']\n",
    "df=pd.DataFrame({'x':range(1,9), 'linear': linear_results_test, 'lasso': lasso_results_test, 'ridge': ridge_results_test })\n",
    "plt.plot( 'x', 'linear', data=df,  markerfacecolor='blue', markersize=12, color='skyblue')\n",
    "plt.plot( 'x', 'lasso', data=df, marker='', color='olive', linewidth=2)\n",
    "plt.plot( 'x', 'ridge', data=df, marker='', color='green', linewidth=2, linestyle='dashed')\n",
    "plt.title('Mean Negative Root Mean Squared Score for Regression Models')\n",
    "plt.legend()\n",
    "plt.savefig('NMSEScoresPlot.png')"
   ]
  },
  {
   "cell_type": "code",
   "execution_count": 26,
   "metadata": {},
   "outputs": [
    {
     "data": {
      "image/png": "[encoded data removed]",
      "text/plain": [
       "<Figure size 432x288 with 1 Axes>"
      ]
     },
     "metadata": {
      "needs_background": "light"
     },
     "output_type": "display_data"
    }
   ],
   "source": [
    "linear_results_test = lin_regressor.cv_results_['mean_test_R2']\n",
    "lasso_results_test = lasso_regression.cv_results_['mean_test_R2']\n",
    "ridge_results_test = ridge_regressor.cv_results_['mean_test_R2']\n",
    "df=pd.DataFrame({'x':range(1,9), 'linear': linear_results_test, 'lasso': lasso_results_test, 'ridge': ridge_results_test })\n",
    "plt.plot( 'x', 'linear', data=df,  markerfacecolor='blue', markersize=12, color='skyblue')\n",
    "plt.plot( 'x', 'lasso', data=df, marker='', color='olive', linewidth=2)\n",
    "plt.plot( 'x', 'ridge', data=df, marker='', color='green', linewidth=2, linestyle='dashed')\n",
    "plt.title('Mean R-Squared Score for Regression Models')\n",
    "plt.legend()\n",
    "plt.savefig('R2coresPlot.png')"
   ]
  },
  {
   "cell_type": "code",
   "execution_count": 27,
   "metadata": {},
   "outputs": [
    {
     "name": "stdout",
     "output_type": "stream",
     "text": [
      "Regression Scores for Catonsville housing dataset:\n",
      "\n",
      "Linear - Average R2: 0.630045705615038\n",
      "Linear - Average Negative Root Mean Squared: -0.1672599442096836\n",
      "\n",
      "Ridge - Average R2: 0.6306301000097133\n",
      "Ridge - Average Negative Root Mean Squared: -0.16730654909635642\n",
      "\n",
      "Lasso - Average R2: 0.6055785377166224\n",
      "Lasso - Average Negative Root Mean Squared: -0.2820847663806925\n"
     ]
    }
   ],
   "source": [
    "NMSE_linear = sum(lin_regressor.cv_results_['mean_test_NMSE'])/len(lin_regressor.cv_results_['mean_test_NMSE'])\n",
    "NMSE_ridge = sum(ridge_regressor.cv_results_['mean_test_NMSE'])/len(ridge_regressor.cv_results_['mean_test_NMSE'])\n",
    "NMSE_lasso = sum(lasso_regression.cv_results_['mean_test_NMSE'])/len(lasso_regression.cv_results_['mean_test_NMSE'])\n",
    "\n",
    "print(\"Regression Scores for Catonsville housing dataset:\\n\")\n",
    "print(\"Linear - Average R2: {}\".format(lin_regressor.best_score_)) \n",
    "print(\"Linear - Average Negative Root Mean Squared: {}\\n\".format(NMSE_linear))\n",
    "print(\"Ridge - Average R2: {}\".format(ridge_regressor.best_score_)) \n",
    "print(\"Ridge - Average Negative Root Mean Squared: {}\\n\".format(NMSE_ridge))\n",
    "print(\"Lasso - Average R2: {}\".format(lasso_regression.best_score_)) \n",
    "print(\"Lasso - Average Negative Root Mean Squared: {}\".format(NMSE_lasso))"
   ]
  },
  {
   "cell_type": "markdown",
   "metadata": {},
   "source": [
    "# Plotting Our Training & Testing Data to See Results\n",
    "\n",
    "Let's see how well our models performs between training & testing. One way to see the validation against training & testing data is to get the delta between the predictions and the true labels and plot on a histogram. This will help see how many predictions were different from the true label (and vice versa).\n"
   ]
  },
  {
   "cell_type": "code",
   "execution_count": 28,
   "metadata": {},
   "outputs": [
    {
     "name": "stderr",
     "output_type": "stream",
     "text": [
      "C:\\Users\\lwhieldon\\AppData\\Local\\Continuum\\anaconda3\\lib\\site-packages\\statsmodels\\tools\\_testing.py:19: FutureWarning: pandas.util.testing is deprecated. Use the functions in the public API at pandas.testing instead.\n",
      "  import pandas.util.testing as tm\n"
     ]
    },
    {
     "data": {
      "image/png": "[encoded data removed]",
      "text/plain": [
       "<Figure size 576x360 with 1 Axes>"
      ]
     },
     "metadata": {
      "needs_background": "light"
     },
     "output_type": "display_data"
    }
   ],
   "source": [
    "prediction_linear = lin_regressor.predict(data_test)\n",
    "prediction_lasso = lasso_regression.predict(data_test)\n",
    "prediction_ridge = ridge_regressor.predict(data_test)\n",
    "import seaborn as sns\n",
    "\n",
    "fig = plt.figure(figsize=(8,5))\n",
    "sns.distplot(target_test-prediction_linear,color='Green')\n",
    "fig.legend(labels=['linear'])\n",
    "plt.savefig('distplotlinear.png')"
   ]
  },
  {
   "cell_type": "code",
   "execution_count": 29,
   "metadata": {},
   "outputs": [
    {
     "data": {
      "image/png": "[encoded data removed]",
      "text/plain": [
       "<Figure size 576x360 with 1 Axes>"
      ]
     },
     "metadata": {
      "needs_background": "light"
     },
     "output_type": "display_data"
    }
   ],
   "source": [
    "fig = plt.figure(figsize=(8,5))\n",
    "sns.distplot(target_test-prediction_ridge,color='Blue')\n",
    "fig.legend(labels=['ridge'])\n",
    "plt.savefig('distplotridge.png')"
   ]
  },
  {
   "cell_type": "code",
   "execution_count": 30,
   "metadata": {},
   "outputs": [
    {
     "data": {
      "image/png": "[encoded data removed]",
      "text/plain": [
       "<Figure size 576x360 with 1 Axes>"
      ]
     },
     "metadata": {
      "needs_background": "light"
     },
     "output_type": "display_data"
    }
   ],
   "source": [
    "fig = plt.figure(figsize=(8,5))\n",
    "sns.distplot(target_test-prediction_lasso,color='Purple')\n",
    "fig.legend(labels=['lasso'])\n",
    "plt.savefig('distplotlasso.png')"
   ]
  },
  {
   "cell_type": "code",
   "execution_count": null,
   "metadata": {},
   "outputs": [],
   "source": []
  }
 ],
 "metadata": {
  "kernelspec": {
   "display_name": "Python 3",
   "language": "python",
   "name": "python3"
  },
  "language_info": {
   "codemirror_mode": {
    "name": "ipython",
    "version": 3
   },
   "file_extension": ".py",
   "mimetype": "text/x-python",
   "name": "python",
   "nbconvert_exporter": "python",
   "pygments_lexer": "ipython3",
   "version": "3.7.6"
  }
 },
 "nbformat": 4,
 "nbformat_minor": 2
}
